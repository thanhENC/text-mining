{
 "cells": [
  {
   "cell_type": "code",
   "execution_count": 2,
   "metadata": {},
   "outputs": [],
   "source": [
    "import requests\n",
    "from bs4 import BeautifulSoup\n",
    "import pandas as pd"
   ]
  },
  {
   "cell_type": "code",
   "execution_count": 13,
   "metadata": {},
   "outputs": [],
   "source": [
    "\n",
    "cookies = {\n",
    "    '_ga': 'GA1.2.1049029416.1664259797',\n",
    "    '_gid': 'GA1.2.1586538497.1664259797',\n",
    "    'fs.bot.check': 'true',\n",
    "    'qcSxc': '1664259812647',\n",
    "    '__gads': 'ID=33b592ebb89d1e43-2269d97fbad60004:T=1664259811:RT=1664259811:S=ALNI_MYq8zf2EqLdczKNH5JVzS0fpFoMrw',\n",
    "    '__gpi': 'UID=000009e49d86047d:T=1664259811:RT=1664259811:S=ALNI_MaYtsDpVKB-9vyz5bUPUM_lyC9j3g',\n",
    "    '__qca': 'P0-1035886652-1664259812632',\n",
    "    'amp_adc4c4': 'ImpAPH_SMPW1Pc6aBCxwEw...1gdupqm7b.1gduprobn.0.0.0',\n",
    "    'amp_d915a9': 's88R1j4A0MX8fPF2mVhVmP...1gdupqn16.1gduprojn.0.0.0',\n",
    "    '__atuvc': '2%7C39',\n",
    "    '__atuvs': '633296daf7e2a177001',\n",
    "}\n",
    "\n",
    "headers = {\n",
    "    'authority': 'www.worldometers.info',\n",
    "    'accept': 'text/html,application/xhtml+xml,application/xml;q=0.9,image/webp,image/apng,*/*;q=0.8,application/signed-exchange;v=b3;q=0.9',\n",
    "    'accept-language': 'en,vi;q=0.9',\n",
    "    'cache-control': 'max-age=0',\n",
    "    'sec-ch-ua': '\"Microsoft Edge\";v=\"105\", \" Not;A Brand\";v=\"99\", \"Chromium\";v=\"105\"',\n",
    "    'sec-ch-ua-mobile': '?0',\n",
    "    'sec-ch-ua-platform': '\"Windows\"',\n",
    "    'sec-fetch-dest': 'document',\n",
    "    'sec-fetch-mode': 'navigate',\n",
    "    'sec-fetch-site': 'none',\n",
    "    'sec-fetch-user': '?1',\n",
    "    'upgrade-insecure-requests': '1',\n",
    "    'user-agent': 'Mozilla/5.0 (Windows NT 10.0; Win64; x64) AppleWebKit/537.36 (KHTML, like Gecko) Chrome/105.0.0.0 Safari/537.36 Edg/105.0.1343.50',\n",
    "}\n",
    "\n",
    "response = requests.get('https://www.worldometers.info/coronavirus/', cookies=cookies, headers=headers)\n"
   ]
  },
  {
   "cell_type": "code",
   "execution_count": null,
   "metadata": {},
   "outputs": [],
   "source": [
    "if response.status_code == 200:\n",
    "    soup = BeautifulSoup(response.text, 'html.parser')\n",
    "    table = soup.find('table', attrs={'id': 'main_table_countries_today'})\n",
    "    table_body = table.find('tbody')\n",
    "    rows = table_body.find_all('tr')\n",
    "    data = []\n",
    "    for row in rows:\n",
    "        cols = row.find_all('td')\n",
    "        if cols[0].text != '':\n",
    "            cols = [ele.text.strip() for ele in cols]\n",
    "            data.append(cols)\n",
    "    df_covid = pd.DataFrame(data)\n",
    "    #rename columns\n",
    "    df_covid.rename(columns={0: '#', 1: 'Country', 2:'Total Cases', 3:'New cases'}, inplace=True)\n",
    "    df_covid.head()\n",
    "    df_covid.to_csv('covid19.csv', index=False, header=False)\n",
    "else:\n",
    "    print('Error')"
   ]
  }
 ],
 "metadata": {
  "kernelspec": {
   "display_name": "Python 3.9.13 64-bit (microsoft store)",
   "language": "python",
   "name": "python3"
  },
  "language_info": {
   "codemirror_mode": {
    "name": "ipython",
    "version": 3
   },
   "file_extension": ".py",
   "mimetype": "text/x-python",
   "name": "python",
   "nbconvert_exporter": "python",
   "pygments_lexer": "ipython3",
   "version": "3.9.13"
  },
  "orig_nbformat": 4,
  "vscode": {
   "interpreter": {
    "hash": "231b793e72510f63263cf75731d759da8776d8c74c3ed2dbefa0f0827e58fa6e"
   }
  }
 },
 "nbformat": 4,
 "nbformat_minor": 2
}
